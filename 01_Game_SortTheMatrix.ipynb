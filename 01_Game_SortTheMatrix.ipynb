{
  "nbformat": 4,
  "nbformat_minor": 0,
  "metadata": {
    "colab": {
      "name": "01_Game:SortTheMatrix.ipynb",
      "provenance": [],
      "collapsed_sections": [],
      "authorship_tag": "ABX9TyNUQpVUfhVtofV3lzMfjB3z",
      "include_colab_link": true
    },
    "kernelspec": {
      "name": "python3",
      "display_name": "Python 3"
    },
    "language_info": {
      "name": "python"
    }
  },
  "cells": [
    {
      "cell_type": "markdown",
      "metadata": {
        "id": "view-in-github",
        "colab_type": "text"
      },
      "source": [
        "<a href=\"https://colab.research.google.com/github/Eassear/MyCode/blob/main/01_Game_SortTheMatrix.ipynb\" target=\"_parent\"><img src=\"https://colab.research.google.com/assets/colab-badge.svg\" alt=\"Open In Colab\"/></a>"
      ]
    },
    {
      "cell_type": "code",
      "source": [
        "import numpy as np "
      ],
      "metadata": {
        "id": "jW6le3Nowdy_"
      },
      "execution_count": null,
      "outputs": []
    },
    {
      "cell_type": "code",
      "source": [
        "class Position(object):\n",
        "  def __init__(self, i, j):\n",
        "    if not(type(i) == type(1) or type(i) == type(1)):\n",
        "      raise TypeError(\"position values must be int\")\n",
        "    self.i = i\n",
        "    self.j = j\n",
        "  def __str__(self):\n",
        "    return \"(\"+ str(self.i) +\", \"+str(self.j)+ \")\""
      ],
      "metadata": {
        "id": "jEV8O3de4lno"
      },
      "execution_count": null,
      "outputs": []
    },
    {
      "cell_type": "code",
      "source": [
        "Rows = 3\n",
        "Columns = 3\n",
        "selected_size =(Rows, Columns)\n",
        "board_items = [x for x in range(0, Rows*Columns)]"
      ],
      "metadata": {
        "id": "cLdgla3Zx3Sd"
      },
      "execution_count": null,
      "outputs": []
    },
    {
      "cell_type": "code",
      "source": [
        "board_items"
      ],
      "metadata": {
        "colab": {
          "base_uri": "https://localhost:8080/"
        },
        "id": "CuFS0VFfzUQ-",
        "outputId": "c524a7bb-bd99-436b-8e57-dc87738787ec"
      },
      "execution_count": null,
      "outputs": [
        {
          "output_type": "execute_result",
          "data": {
            "text/plain": [
              "[0, 1, 2, 3, 4, 5, 6, 7, 8]"
            ]
          },
          "metadata": {},
          "execution_count": 274
        }
      ]
    },
    {
      "cell_type": "code",
      "source": [
        "goal = np.resize(board_items.copy(), selected_size)\n",
        "goal"
      ],
      "metadata": {
        "colab": {
          "base_uri": "https://localhost:8080/"
        },
        "id": "UwXJ5893-5IY",
        "outputId": "e80e90f4-4393-4748-d1cb-3a5138382473"
      },
      "execution_count": null,
      "outputs": [
        {
          "output_type": "execute_result",
          "data": {
            "text/plain": [
              "array([[0, 1, 2],\n",
              "       [3, 4, 5],\n",
              "       [6, 7, 8]])"
            ]
          },
          "metadata": {},
          "execution_count": 275
        }
      ]
    },
    {
      "cell_type": "code",
      "source": [
        "def build_board():\n",
        "  random_list = np.random.permutation(board_items)\n",
        "  return random_list.reshape(selected_size)"
      ],
      "metadata": {
        "id": "NUmyeBMB02MF"
      },
      "execution_count": null,
      "outputs": []
    },
    {
      "cell_type": "code",
      "source": [
        "board = build_board()"
      ],
      "metadata": {
        "id": "avYFx_yvxUhK"
      },
      "execution_count": null,
      "outputs": []
    },
    {
      "cell_type": "code",
      "source": [
        "board"
      ],
      "metadata": {
        "colab": {
          "base_uri": "https://localhost:8080/"
        },
        "id": "8ceiw7321qwo",
        "outputId": "503cf6ab-dfc6-4e6e-fc6f-b9554cb20a98"
      },
      "execution_count": null,
      "outputs": [
        {
          "output_type": "execute_result",
          "data": {
            "text/plain": [
              "array([[7, 2, 6],\n",
              "       [4, 5, 0],\n",
              "       [1, 8, 3]])"
            ]
          },
          "metadata": {},
          "execution_count": 278
        }
      ]
    },
    {
      "cell_type": "code",
      "source": [
        "def possible_positions(matrix, position, route):\n",
        "  a = position.i\n",
        "  b = position.j\n",
        "  d = {(c, r):(c, r) for c in range(Rows) for r in range(Columns)}\n",
        "  possibles = filter(None, [d.get(e) for e in [(a, b+1), (a+1, b), (a-1, b), (a, b-1)]])\n",
        "  l =  len(route)\n",
        "  if l > 11:\n",
        "    possibles = [x for x in possibles if not(route[l-12:l-6] == str(x))]\n",
        "  return [Position(*x) for x in possibles]"
      ],
      "metadata": {
        "id": "E_LwzkMY99H-"
      },
      "execution_count": null,
      "outputs": []
    },
    {
      "cell_type": "code",
      "source": [
        "test_possible_positions = possible_positions(board, Position(1, 2), str((0, 2)))"
      ],
      "metadata": {
        "id": "1CdHoKtF_8D4"
      },
      "execution_count": null,
      "outputs": []
    },
    {
      "cell_type": "code",
      "source": [
        "print(*test_possible_positions)"
      ],
      "metadata": {
        "id": "IU1sUMEx9_kM",
        "colab": {
          "base_uri": "https://localhost:8080/"
        },
        "outputId": "73a9864c-1411-411d-efd0-56cc27239b30"
      },
      "execution_count": null,
      "outputs": [
        {
          "output_type": "stream",
          "name": "stdout",
          "text": [
            "(2, 2) (0, 2) (1, 1)\n"
          ]
        }
      ]
    },
    {
      "cell_type": "code",
      "source": [
        "\"(2, 2) (0, 2) (1, 1)\"[14:20] == str((1, 1))"
      ],
      "metadata": {
        "colab": {
          "base_uri": "https://localhost:8080/"
        },
        "id": "6VsRO3k8OzHm",
        "outputId": "31ec8c5e-38bf-4ed8-d89d-05cef9b61c1f"
      },
      "execution_count": null,
      "outputs": [
        {
          "output_type": "execute_result",
          "data": {
            "text/plain": [
              "True"
            ]
          },
          "metadata": {},
          "execution_count": 282
        }
      ]
    },
    {
      "cell_type": "code",
      "source": [
        "def find_position_of_0(matrix):\n",
        "  x, y = np.where(matrix == 0)\n",
        "  return Position(int(x), int(y))"
      ],
      "metadata": {
        "id": "1q_02VmeQvnU"
      },
      "execution_count": null,
      "outputs": []
    },
    {
      "cell_type": "code",
      "source": [
        "class SimpleNode(object):\n",
        "  def __init__ (self, matrix, value, route):\n",
        "    self.matrix = matrix\n",
        "    self.value = value\n",
        "    self.route = route\n",
        "  \n",
        "  def __str__(self):\n",
        "    return \"(\"+ str(self.value)+\", \"+ self.route+ \")\"\n",
        "\n",
        "  def move_value(self, new_position, p0, matrix):\n",
        "    return 1 + self.value\n",
        "  \n",
        "  def move(self, new_position, p0, matrix):\n",
        "    matrix = np.copy(self.matrix)\n",
        "    temp = matrix[new_position.i, new_position.j]\n",
        "    matrix[new_position.i, new_position.j] = 0\n",
        "    matrix[p0.i, p0.j] = temp\n",
        "    value = self.move_value(new_position, p0, matrix)\n",
        "    route = self.route+str(new_position)\n",
        "    return matrix, value, route\n",
        "  \n",
        "  def create_childeren(self):\n",
        "    children = []\n",
        "    p0 = find_position_of_0(self.matrix)\n",
        "    child_positions = possible_positions(self.matrix, p0, self.route)\n",
        "    for p in child_positions:\n",
        "      m_new, value, route = self.move(p, p0, self.matrix)\n",
        "      children.append(SimpleNode(m_new, value, route))\n",
        "    return children"
      ],
      "metadata": {
        "id": "gR8ocD8V0RbP"
      },
      "execution_count": null,
      "outputs": []
    },
    {
      "cell_type": "code",
      "source": [
        "  node = SimpleNode(board,0, str(find_position_of_0(board)))\n",
        "  agenda_first = np.array([node])\n",
        "  print(*node.create_childeren())"
      ],
      "metadata": {
        "colab": {
          "base_uri": "https://localhost:8080/"
        },
        "id": "KsYYus220S1l",
        "outputId": "061f1be7-08a5-4937-d779-c07d063c0d40"
      },
      "execution_count": null,
      "outputs": [
        {
          "output_type": "stream",
          "name": "stdout",
          "text": [
            "(1, (1, 2)(2, 2)) (1, (1, 2)(0, 2)) (1, (1, 2)(1, 1))\n"
          ]
        }
      ]
    },
    {
      "cell_type": "code",
      "source": [
        "def recursive_search(agenda, t):\n",
        "  min_node = agenda[0]\n",
        "  if min_node.matrix.all == goal.all or t == 0:\n",
        "    return agenda\n",
        "  else:\n",
        "    agenda = np.append(agenda, min_node.create_childeren()) \n",
        "    agenda.flat\n",
        "    agenda = sorted(agenda,key=lambda x: x.value, reverse=False)\n",
        "    agenda.pop(0)\n",
        "    return recursive_search(agenda, t-1)"
      ],
      "metadata": {
        "id": "QnwI1U_UZz_6"
      },
      "execution_count": null,
      "outputs": []
    },
    {
      "cell_type": "code",
      "source": [
        "results= recursive_search(agenda_first, 10)\n",
        "for result in results:\n",
        "  print(result)"
      ],
      "metadata": {
        "colab": {
          "base_uri": "https://localhost:8080/"
        },
        "id": "qRDqsDGyzD9N",
        "outputId": "669f8580-4f9a-4c70-dc65-5756a58ce8d9"
      },
      "execution_count": null,
      "outputs": [
        {
          "output_type": "stream",
          "name": "stdout",
          "text": [
            "(3, (1, 2)(2, 2)(2, 1)(2, 0))\n",
            "(3, (1, 2)(0, 2)(0, 1)(1, 1))\n",
            "(3, (1, 2)(0, 2)(0, 1)(0, 0))\n",
            "(3, (1, 2)(1, 1)(2, 1)(2, 2))\n",
            "(3, (1, 2)(1, 1)(2, 1)(2, 0))\n",
            "(3, (1, 2)(1, 1)(0, 1)(0, 2))\n",
            "(3, (1, 2)(1, 1)(0, 1)(0, 0))\n",
            "(3, (1, 2)(1, 1)(1, 0)(2, 0))\n",
            "(3, (1, 2)(1, 1)(1, 0)(0, 0))\n",
            "(4, (1, 2)(2, 2)(2, 1)(1, 1)(1, 2))\n",
            "(4, (1, 2)(2, 2)(2, 1)(1, 1)(0, 1))\n",
            "(4, (1, 2)(2, 2)(2, 1)(1, 1)(1, 0))\n"
          ]
        }
      ]
    },
    {
      "cell_type": "code",
      "source": [
        "class Right_Move_First(SimpleNode):\n",
        "  def move_value(self, new_position, p0, matrix):\n",
        "    total_difference = 0\n",
        "    Row, Col = np.shape(goal)\n",
        "    for i in range(Row):\n",
        "      for j in range(Col):\n",
        "        x, y = np.where(matrix ==goal[i, j])\n",
        "        total_difference += pow(pow(int(x)-i, 2) + pow(int(y)-j, 2), 0.5)\n",
        "    return self.value + total_difference/10"
      ],
      "metadata": {
        "id": "waGp82J237J6"
      },
      "execution_count": null,
      "outputs": []
    },
    {
      "cell_type": "code",
      "source": [
        "  node = Right_Move_First(board,1, str(find_position_of_0(board)))\n",
        "  agenda_first = np.array([node])\n",
        "  results= recursive_search(agenda_first, 100)\n",
        "  for result in results:\n",
        "    print(result)"
      ],
      "metadata": {
        "colab": {
          "base_uri": "https://localhost:8080/"
        },
        "id": "oh1CZo3Bdy4a",
        "outputId": "4e632497-0fc4-4c41-87a7-af51af353999"
      },
      "execution_count": null,
      "outputs": [
        {
          "output_type": "stream",
          "name": "stdout",
          "text": [
            "(7.612899020449196, (1, 2)(2, 2)(2, 1)(1, 1)(1, 0)(0, 0)(0, 1))\n",
            "(7.612899020449196, (1, 2)(2, 2)(2, 1)(2, 0)(1, 0)(1, 1)(1, 2))\n",
            "(7.612899020449196, (1, 2)(2, 2)(2, 1)(2, 0)(1, 0)(1, 1)(2, 1))\n",
            "(7.612899020449196, (1, 2)(2, 2)(2, 1)(2, 0)(1, 0)(1, 1)(0, 1))\n",
            "(7.612899020449196, (1, 2)(2, 2)(2, 1)(2, 0)(1, 0)(0, 0)(0, 1))\n",
            "(8.395084461961865, (1, 2)(1, 1)(2, 1)(2, 2)(1, 2)(0, 2)(0, 1)(1, 1))\n",
            "(8.395084461961865, (1, 2)(1, 1)(2, 1)(2, 2)(1, 2)(0, 2)(0, 1)(0, 0))\n",
            "(8.395084461961865, (1, 2)(1, 1)(2, 1)(2, 2)(1, 2)(1, 1)(2, 1)(2, 2))\n",
            "(8.395084461961865, (1, 2)(1, 1)(2, 1)(2, 2)(1, 2)(1, 1)(2, 1)(2, 0))\n",
            "(8.395084461961865, (1, 2)(1, 1)(2, 1)(2, 2)(1, 2)(1, 1)(0, 1)(0, 2))\n",
            "(8.395084461961865, (1, 2)(1, 1)(2, 1)(2, 2)(1, 2)(1, 1)(0, 1)(0, 0))\n",
            "(8.395084461961865, (1, 2)(1, 1)(2, 1)(2, 2)(1, 2)(1, 1)(1, 0)(2, 0))\n",
            "(8.395084461961865, (1, 2)(1, 1)(2, 1)(2, 2)(1, 2)(1, 1)(1, 0)(0, 0))\n",
            "(8.395084461961865, (1, 2)(1, 1)(2, 1)(2, 0)(1, 0)(1, 1)(1, 2)(2, 2))\n",
            "(8.395084461961865, (1, 2)(1, 1)(2, 1)(2, 0)(1, 0)(1, 1)(1, 2)(0, 2))\n",
            "(8.395084461961865, (1, 2)(1, 1)(2, 1)(2, 0)(1, 0)(1, 1)(2, 1)(2, 2))\n",
            "(8.395084461961865, (1, 2)(1, 1)(2, 1)(2, 0)(1, 0)(1, 1)(2, 1)(2, 0))\n",
            "(8.395084461961865, (1, 2)(1, 1)(2, 1)(2, 0)(1, 0)(1, 1)(0, 1)(0, 2))\n",
            "(8.395084461961865, (1, 2)(1, 1)(2, 1)(2, 0)(1, 0)(1, 1)(0, 1)(0, 0))\n",
            "(8.395084461961865, (1, 2)(1, 1)(2, 1)(2, 0)(1, 0)(0, 0)(0, 1)(0, 2))\n",
            "(8.395084461961865, (1, 2)(1, 1)(2, 1)(2, 0)(1, 0)(0, 0)(0, 1)(1, 1))\n",
            "(8.395084461961865, (1, 2)(1, 1)(0, 1)(0, 2)(1, 2)(2, 2)(2, 1)(1, 1))\n",
            "(8.395084461961865, (1, 2)(1, 1)(0, 1)(0, 2)(1, 2)(2, 2)(2, 1)(2, 0))\n",
            "(8.395084461961865, (1, 2)(1, 1)(0, 1)(0, 2)(1, 2)(1, 1)(2, 1)(2, 2))\n",
            "(8.395084461961865, (1, 2)(1, 1)(0, 1)(0, 2)(1, 2)(1, 1)(2, 1)(2, 0))\n",
            "(8.395084461961865, (1, 2)(1, 1)(0, 1)(0, 2)(1, 2)(1, 1)(0, 1)(0, 2))\n",
            "(8.395084461961865, (1, 2)(1, 1)(0, 1)(0, 2)(1, 2)(1, 1)(0, 1)(0, 0))\n",
            "(8.395084461961865, (1, 2)(1, 1)(0, 1)(0, 2)(1, 2)(1, 1)(1, 0)(2, 0))\n",
            "(8.395084461961865, (1, 2)(1, 1)(0, 1)(0, 2)(1, 2)(1, 1)(1, 0)(0, 0))\n",
            "(8.395084461961865, (1, 2)(1, 1)(0, 1)(0, 0)(1, 0)(1, 1)(1, 2)(2, 2))\n",
            "(8.395084461961865, (1, 2)(1, 1)(0, 1)(0, 0)(1, 0)(1, 1)(1, 2)(0, 2))\n",
            "(8.395084461961865, (1, 2)(1, 1)(0, 1)(0, 0)(1, 0)(1, 1)(2, 1)(2, 2))\n",
            "(8.395084461961865, (1, 2)(1, 1)(0, 1)(0, 0)(1, 0)(1, 1)(2, 1)(2, 0))\n",
            "(8.395084461961865, (1, 2)(1, 1)(0, 1)(0, 0)(1, 0)(1, 1)(0, 1)(0, 2))\n",
            "(8.395084461961865, (1, 2)(1, 1)(0, 1)(0, 0)(1, 0)(1, 1)(0, 1)(0, 0))\n",
            "(8.395084461961865, (1, 2)(1, 1)(0, 1)(0, 0)(1, 0)(2, 0)(2, 1)(2, 2))\n",
            "(8.395084461961865, (1, 2)(1, 1)(0, 1)(0, 0)(1, 0)(2, 0)(2, 1)(1, 1))\n",
            "(8.395084461961865, (1, 2)(1, 1)(1, 0)(2, 0)(2, 1)(2, 2)(1, 2)(0, 2))\n",
            "(8.395084461961865, (1, 2)(1, 1)(1, 0)(2, 0)(2, 1)(2, 2)(1, 2)(1, 1))\n",
            "(8.395084461961865, (1, 2)(1, 1)(1, 0)(2, 0)(2, 1)(1, 1)(1, 2)(2, 2))\n",
            "(8.395084461961865, (1, 2)(1, 1)(1, 0)(2, 0)(2, 1)(1, 1)(1, 2)(0, 2))\n",
            "(8.395084461961865, (1, 2)(1, 1)(1, 0)(2, 0)(2, 1)(1, 1)(0, 1)(0, 2))\n",
            "(8.395084461961865, (1, 2)(1, 1)(1, 0)(2, 0)(2, 1)(1, 1)(0, 1)(0, 0))\n",
            "(8.395084461961865, (1, 2)(1, 1)(1, 0)(2, 0)(2, 1)(1, 1)(1, 0)(2, 0))\n",
            "(8.395084461961865, (1, 2)(1, 1)(1, 0)(2, 0)(2, 1)(1, 1)(1, 0)(0, 0))\n",
            "(8.395084461961865, (1, 2)(1, 1)(1, 0)(0, 0)(0, 1)(0, 2)(1, 2)(2, 2))\n",
            "(8.395084461961865, (1, 2)(1, 1)(1, 0)(0, 0)(0, 1)(0, 2)(1, 2)(1, 1))\n",
            "(8.395084461961865, (1, 2)(1, 1)(1, 0)(0, 0)(0, 1)(1, 1)(1, 2)(2, 2))\n",
            "(8.395084461961865, (1, 2)(1, 1)(1, 0)(0, 0)(0, 1)(1, 1)(1, 2)(0, 2))\n",
            "(8.395084461961865, (1, 2)(1, 1)(1, 0)(0, 0)(0, 1)(1, 1)(2, 1)(2, 2))\n",
            "(8.395084461961865, (1, 2)(1, 1)(1, 0)(0, 0)(0, 1)(1, 1)(2, 1)(2, 0))\n",
            "(8.395084461961865, (1, 2)(1, 1)(1, 0)(0, 0)(0, 1)(1, 1)(1, 0)(2, 0))\n",
            "(8.395084461961865, (1, 2)(1, 1)(1, 0)(0, 0)(0, 1)(1, 1)(1, 0)(0, 0))\n",
            "(8.494427190999916, (1, 2)(0, 2)(0, 1)(1, 1)(1, 2)(2, 2)(2, 1)(1, 1))\n",
            "(8.494427190999916, (1, 2)(0, 2)(0, 1)(1, 1)(1, 2)(2, 2)(2, 1)(2, 0))\n",
            "(8.494427190999916, (1, 2)(0, 2)(0, 1)(1, 1)(1, 2)(0, 2)(0, 1)(1, 1))\n",
            "(8.494427190999916, (1, 2)(0, 2)(0, 1)(1, 1)(1, 2)(0, 2)(0, 1)(0, 0))\n",
            "(8.494427190999916, (1, 2)(0, 2)(0, 1)(1, 1)(2, 1)(2, 2)(1, 2)(0, 2))\n",
            "(8.494427190999916, (1, 2)(0, 2)(0, 1)(1, 1)(2, 1)(2, 2)(1, 2)(1, 1))\n",
            "(8.494427190999916, (1, 2)(0, 2)(0, 1)(1, 1)(2, 1)(2, 0)(1, 0)(1, 1))\n",
            "(8.494427190999916, (1, 2)(0, 2)(0, 1)(1, 1)(2, 1)(2, 0)(1, 0)(0, 0))\n",
            "(8.494427190999916, (1, 2)(0, 2)(0, 1)(1, 1)(1, 0)(2, 0)(2, 1)(2, 2))\n",
            "(8.494427190999916, (1, 2)(0, 2)(0, 1)(1, 1)(1, 0)(2, 0)(2, 1)(1, 1))\n",
            "(8.494427190999916, (1, 2)(0, 2)(0, 1)(1, 1)(1, 0)(0, 0)(0, 1)(0, 2))\n",
            "(8.494427190999916, (1, 2)(0, 2)(0, 1)(1, 1)(1, 0)(0, 0)(0, 1)(1, 1))\n",
            "(8.494427190999916, (1, 2)(0, 2)(0, 1)(0, 0)(1, 0)(1, 1)(1, 2)(2, 2))\n",
            "(8.494427190999916, (1, 2)(0, 2)(0, 1)(0, 0)(1, 0)(1, 1)(1, 2)(0, 2))\n",
            "(8.494427190999916, (1, 2)(0, 2)(0, 1)(0, 0)(1, 0)(1, 1)(2, 1)(2, 2))\n",
            "(8.494427190999916, (1, 2)(0, 2)(0, 1)(0, 0)(1, 0)(1, 1)(2, 1)(2, 0))\n",
            "(8.494427190999916, (1, 2)(0, 2)(0, 1)(0, 0)(1, 0)(1, 1)(0, 1)(0, 2))\n",
            "(8.494427190999916, (1, 2)(0, 2)(0, 1)(0, 0)(1, 0)(1, 1)(0, 1)(0, 0))\n",
            "(8.494427190999916, (1, 2)(0, 2)(0, 1)(0, 0)(1, 0)(2, 0)(2, 1)(2, 2))\n",
            "(8.494427190999916, (1, 2)(0, 2)(0, 1)(0, 0)(1, 0)(2, 0)(2, 1)(1, 1))\n",
            "(8.612899020449195, (1, 2)(2, 2)(2, 1)(1, 1)(1, 2)(2, 2)(2, 1)(1, 1))\n",
            "(8.612899020449195, (1, 2)(2, 2)(2, 1)(1, 1)(1, 2)(2, 2)(2, 1)(2, 0))\n",
            "(8.612899020449195, (1, 2)(2, 2)(2, 1)(1, 1)(1, 2)(0, 2)(0, 1)(1, 1))\n",
            "(8.612899020449195, (1, 2)(2, 2)(2, 1)(1, 1)(1, 2)(0, 2)(0, 1)(0, 0))\n",
            "(8.612899020449195, (1, 2)(2, 2)(2, 1)(1, 1)(0, 1)(0, 2)(1, 2)(2, 2))\n",
            "(8.612899020449195, (1, 2)(2, 2)(2, 1)(1, 1)(0, 1)(0, 2)(1, 2)(1, 1))\n",
            "(8.612899020449195, (1, 2)(2, 2)(2, 1)(1, 1)(0, 1)(0, 0)(1, 0)(1, 1))\n",
            "(8.612899020449195, (1, 2)(2, 2)(2, 1)(1, 1)(0, 1)(0, 0)(1, 0)(2, 0))\n",
            "(8.612899020449195, (1, 2)(2, 2)(2, 1)(1, 1)(1, 0)(2, 0)(2, 1)(2, 2))\n",
            "(8.612899020449195, (1, 2)(2, 2)(2, 1)(1, 1)(1, 0)(2, 0)(2, 1)(1, 1))\n"
          ]
        }
      ]
    },
    {
      "cell_type": "code",
      "source": [
        ""
      ],
      "metadata": {
        "id": "N8RX4dxSk8ha"
      },
      "execution_count": null,
      "outputs": []
    }
  ]
}