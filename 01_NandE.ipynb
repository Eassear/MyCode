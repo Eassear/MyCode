{
 "cells": [
  {
   "cell_type": "markdown",
   "id": "f63adaed",
   "metadata": {},
   "source": [
    "Node and edge class"
   ]
  },
  {
   "cell_type": "code",
   "execution_count": 10,
   "id": "d51423c5",
   "metadata": {},
   "outputs": [],
   "source": [
    "class NandE (object):\n",
    "    def __init__ (self):\n",
    "        self.nodes = []\n",
    "        self.edges = []\n",
    "        self.h = \"add_node (node), add_edge(node, node, direction, value),add_nodes_from_list(list of nodes), add_edges_from_list (list (nd1, nd2, direction, value)), get_children(node)\"\n",
    "        \n",
    "    def add_node (self, x):\n",
    "        if not x in self.nodes:\n",
    "            self.nodes.append(x)\n",
    "        else:\n",
    "            raise ValueError (\"Existing node\")\n",
    "            \n",
    "    def add_nodes_from_list (self, List):\n",
    "        for x in List:\n",
    "            self.add_node(x)\n",
    "    \n",
    "    def add_edge (self, nd_1, nd_2, direction=\"out\", value=1):\n",
    "        if not (nd_1 in self.nodes or nd_2 in self.nodes):\n",
    "            raise ValueError (\"Node not in the node list\")\n",
    "        else:\n",
    "            self.edges.append((nd_1, nd_2, direction, value))\n",
    "    \n",
    "    def add_edges_from_list (self, List):\n",
    "        for x in List:\n",
    "            self.add_edge(x[0], x[1])\n",
    "    \n",
    "    def get_children(self, node):\n",
    "        children_list = []\n",
    "        for edge in self.edges:\n",
    "            if edge[2] == \"out\" and edge[0] == node:\n",
    "                children_list.append (edge[1])\n",
    "            elif edge[2] == \"in\" and edge[1] == node:\n",
    "                children_list.append (edge[0])\n",
    "        return children_list\n"
   ]
  },
  {
   "cell_type": "code",
   "execution_count": 11,
   "id": "12719bca",
   "metadata": {},
   "outputs": [],
   "source": [
    "tree = NandE()"
   ]
  },
  {
   "cell_type": "code",
   "execution_count": 12,
   "id": "4bf06221",
   "metadata": {
    "scrolled": true
   },
   "outputs": [
    {
     "data": {
      "text/plain": [
       "'add_node (node), add_edge(node, node, direction, value),add_nodes_from_list(list of nodes), add_edges_from_list (list (nd1, nd2, direction, value)), get_children(node)'"
      ]
     },
     "execution_count": 12,
     "metadata": {},
     "output_type": "execute_result"
    }
   ],
   "source": [
    "tree.h"
   ]
  },
  {
   "cell_type": "code",
   "execution_count": 13,
   "id": "d706218c",
   "metadata": {},
   "outputs": [],
   "source": [
    "tree.add_nodes_from_list([1, 2, 3])"
   ]
  },
  {
   "cell_type": "code",
   "execution_count": 14,
   "id": "c5153b53",
   "metadata": {},
   "outputs": [
    {
     "data": {
      "text/plain": [
       "[1, 2, 3]"
      ]
     },
     "execution_count": 14,
     "metadata": {},
     "output_type": "execute_result"
    }
   ],
   "source": [
    "tree.nodes"
   ]
  },
  {
   "cell_type": "code",
   "execution_count": 15,
   "id": "bfd81c00",
   "metadata": {},
   "outputs": [],
   "source": [
    "tree.add_edges_from_list([(1, 2), (1, 3)])"
   ]
  },
  {
   "cell_type": "code",
   "execution_count": 16,
   "id": "0f7863fc",
   "metadata": {},
   "outputs": [
    {
     "data": {
      "text/plain": [
       "[(1, 2, 'out', 1), (1, 3, 'out', 1)]"
      ]
     },
     "execution_count": 16,
     "metadata": {},
     "output_type": "execute_result"
    }
   ],
   "source": [
    "tree.edges"
   ]
  },
  {
   "cell_type": "code",
   "execution_count": 17,
   "id": "ff76cf26",
   "metadata": {},
   "outputs": [
    {
     "data": {
      "text/plain": [
       "[2, 3]"
      ]
     },
     "execution_count": 17,
     "metadata": {},
     "output_type": "execute_result"
    }
   ],
   "source": [
    "tree.get_children(1)"
   ]
  },
  {
   "cell_type": "code",
   "execution_count": null,
   "id": "e7c1bee0",
   "metadata": {},
   "outputs": [],
   "source": []
  }
 ],
 "metadata": {
  "kernelspec": {
   "display_name": "Python 3 (ipykernel)",
   "language": "python",
   "name": "python3"
  },
  "language_info": {
   "codemirror_mode": {
    "name": "ipython",
    "version": 3
   },
   "file_extension": ".py",
   "mimetype": "text/x-python",
   "name": "python",
   "nbconvert_exporter": "python",
   "pygments_lexer": "ipython3",
   "version": "3.8.10"
  }
 },
 "nbformat": 4,
 "nbformat_minor": 5
}
