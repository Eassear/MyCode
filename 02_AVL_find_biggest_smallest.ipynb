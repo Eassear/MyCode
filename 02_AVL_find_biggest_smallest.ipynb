{
 "cells": [
  {
   "cell_type": "markdown",
   "id": "6e59cacb",
   "metadata": {},
   "source": [
    "Node and edge class"
   ]
  },
  {
   "cell_type": "code",
   "execution_count": 1,
   "id": "19964a86",
   "metadata": {},
   "outputs": [],
   "source": [
    "class NandE (object):\n",
    "    def __init__ (self):\n",
    "        self.nodes = []\n",
    "        self.edges = []\n",
    "        \n",
    "    def add_node (self, x):\n",
    "        if not x in self.nodes:\n",
    "            self.nodes.append(x)\n",
    "        else:\n",
    "            raise ValueError (\"Existing node\")\n",
    "            \n",
    "    def add_nodes_from_list (self, List):\n",
    "        for x in List:\n",
    "            self.add_node(x)\n",
    "    \n",
    "    def add_edge (self, nd_1, nd_2, direction=\"out\", value=1):\n",
    "        if not (nd_1 in self.nodes or nd_2 in self.nodes):\n",
    "            raise ValueError (\"Node not in the node list\")\n",
    "        else:\n",
    "            self.edges.append([nd_1, nd_2, direction, value])\n",
    "    \n",
    "    def add_edges_from_list (self, List):\n",
    "        for x in List:\n",
    "            self.add_edge(x[0], x[1])\n",
    "    \n",
    "    def get_children(self, node):\n",
    "        children_list = []\n",
    "        for edge in self.edges:\n",
    "            if edge[2] == \"out\" and edge[0] == node:\n",
    "                children_list.append (edge[1])\n",
    "            elif edge[2] == \"in\" and edge[1] == node:\n",
    "                children_list.append (edge[0])\n",
    "        return children_list\n",
    "\n",
    "    def change_node(self, node, new, direction):\n",
    "        for edge in self.edges:\n",
    "            if node == edge[0] and direction == edge [2]:\n",
    "                edge[0] = new\n",
    "                \n",
    "    def change_child(self, node, new, direction):\n",
    "        for edge in self.edges:\n",
    "            if node == edge[0] and direction == edge [2]:\n",
    "                edge[1] = new\n",
    "                            \n",
    "                    "
   ]
  },
  {
   "cell_type": "markdown",
   "id": "bf5ffd3d",
   "metadata": {},
   "source": [
    "Add some new featues"
   ]
  },
  {
   "cell_type": "code",
   "execution_count": 2,
   "id": "7ba557af",
   "metadata": {},
   "outputs": [],
   "source": [
    "class Find_Min_Max(NandE):\n",
    "    \n",
    "    def find_children(self, node):\n",
    "        children_list=[]\n",
    "        for edge in self.edges:\n",
    "            if edge[0] == node:\n",
    "                children_list.append ((edge[1], edge[2]))\n",
    "        return children_list\n",
    "    \n",
    "    def find_left_child (self, node):\n",
    "        if self.find_children(node) == []:\n",
    "            return []\n",
    "        else: \n",
    "            for child in self. find_children(node):\n",
    "                if child[1] == \"left\":\n",
    "                    return [child[0]]\n",
    "            return []\n",
    "    \n",
    "    def find_right_child (self, node):\n",
    "        if self.find_children(node) == []:\n",
    "            return []\n",
    "        else: \n",
    "            for child in self. find_children(node):\n",
    "                if child[1] == \"right\":\n",
    "                    return [child[0]]\n",
    "            return []    \n",
    "    \n",
    "    def node_have_left_child (self, node):\n",
    "        result = False\n",
    "        for edge in self.find_children (node):\n",
    "            try: \n",
    "                if edge[1] == \"left\": result = True\n",
    "            except IndexError: \n",
    "                pass\n",
    "        return result\n",
    "\n",
    "    def node_have_right_child (self, node):\n",
    "        result = False\n",
    "        for edge in self.find_children (node):\n",
    "            try: \n",
    "                if edge[1] == \"right\": result = True\n",
    "            except IndexError: \n",
    "                pass\n",
    "        return result       \n",
    "\n",
    "    def add_node_to_tree (self, node, homeless):\n",
    "        if not homeless in self.nodes:\n",
    "            self.add_node(homeless)\n",
    "        have_left_child = self.node_have_left_child(node)\n",
    "        if have_left_child:\n",
    "            left_child = self.find_left_child(node)[0]\n",
    "        \n",
    "        have_right_child = self.node_have_right_child(node)\n",
    "        if have_right_child:\n",
    "            right_child = self.find_right_child(node)[0]\n",
    "        \n",
    "        if homeless < node and not have_left_child:\n",
    "            self.add_edge(node, homeless, \"left\")\n",
    "        if homeless < node and have_left_child:\n",
    "            if homeless < left_child:\n",
    "                self.add_node_to_tree(left_child, homeless)\n",
    "            if homeless > left_child and self.node_have_right_child(left_child):\n",
    "                self.change_child(node, homeless, \"left\")\n",
    "                self.add_node_to_tree (homeless, left_child)\n",
    "            if homeless > left_child and not self.node_have_right_child(left_child):\n",
    "                self.add_edge(left_child, homeless, \"right\")\n",
    "\n",
    "        if homeless > node and not have_right_child:\n",
    "            self.add_edge(node, homeless, \"right\")            \n",
    "        if homeless > node and have_right_child:\n",
    "            if homeless > right_child:\n",
    "                self.add_node_to_tree(right_child, homeless)\n",
    "            if homeless < right_child and self.node_have_left_child(right_child):\n",
    "                self.change_child(node, homeless, \"right\")\n",
    "                self.add_node_to_tree(homeless, right_child) \n",
    "            if homeless < right_child and not self.node_have_left_child(right_child):\n",
    "                self.add_edge(right_child, homeless, \"left\") \n",
    "\n",
    "                "
   ]
  },
  {
   "cell_type": "code",
   "execution_count": 3,
   "id": "1bee5098",
   "metadata": {},
   "outputs": [
    {
     "data": {
      "text/plain": [
       "[[2, 1, 'left', 1], [2, 3, 'right', 1], [3, 7, 'right', 1]]"
      ]
     },
     "execution_count": 3,
     "metadata": {},
     "output_type": "execute_result"
    }
   ],
   "source": [
    "Ex = Find_Min_Max()\n",
    "Ex.add_nodes_from_list([1,2,3,7])\n",
    "Ex.add_edge(2, 1, \"left\")\n",
    "Ex.add_edge(2, 3, \"right\")\n",
    "Ex.add_edge(3, 7, \"right\")\n",
    "\n",
    "Ex.nodes\n",
    "Ex.edges"
   ]
  },
  {
   "cell_type": "code",
   "execution_count": 4,
   "id": "dfaf482e",
   "metadata": {},
   "outputs": [
    {
     "data": {
      "text/plain": [
       "[(1, 'left'), (3, 'right')]"
      ]
     },
     "execution_count": 4,
     "metadata": {},
     "output_type": "execute_result"
    }
   ],
   "source": [
    "Ex.find_children(2)"
   ]
  },
  {
   "cell_type": "code",
   "execution_count": 5,
   "id": "12d0446a",
   "metadata": {},
   "outputs": [
    {
     "data": {
      "text/plain": [
       "False"
      ]
     },
     "execution_count": 5,
     "metadata": {},
     "output_type": "execute_result"
    }
   ],
   "source": [
    "Ex.node_have_left_child(1)"
   ]
  },
  {
   "cell_type": "code",
   "execution_count": 6,
   "id": "431047e1",
   "metadata": {},
   "outputs": [
    {
     "data": {
      "text/plain": [
       "[7]"
      ]
     },
     "execution_count": 6,
     "metadata": {},
     "output_type": "execute_result"
    }
   ],
   "source": [
    "Ex.find_right_child(3)"
   ]
  },
  {
   "cell_type": "code",
   "execution_count": 7,
   "id": "35abfcd7",
   "metadata": {},
   "outputs": [
    {
     "data": {
      "text/plain": [
       "[[2, 1, 'left', 1], [2, 3, 'right', 1], [3, 7, 'right', 1], [7, 5, 'left', 1]]"
      ]
     },
     "execution_count": 7,
     "metadata": {},
     "output_type": "execute_result"
    }
   ],
   "source": [
    "Ex.add_node_to_tree(2, 5)\n",
    "Ex.edges"
   ]
  },
  {
   "cell_type": "code",
   "execution_count": 8,
   "id": "9d8754bf",
   "metadata": {},
   "outputs": [],
   "source": [
    "A = Find_Min_Max()"
   ]
  },
  {
   "cell_type": "code",
   "execution_count": 9,
   "id": "5ad2165c",
   "metadata": {},
   "outputs": [
    {
     "data": {
      "text/plain": [
       "[[50, 25, 'left', 1]]"
      ]
     },
     "execution_count": 9,
     "metadata": {},
     "output_type": "execute_result"
    }
   ],
   "source": [
    "A.add_node_to_tree(50, 25)\n",
    "A.edges"
   ]
  },
  {
   "cell_type": "code",
   "execution_count": 10,
   "id": "175bdb76",
   "metadata": {},
   "outputs": [
    {
     "data": {
      "text/plain": [
       "[[50, 25, 'left', 1], [25, 2, 'left', 1]]"
      ]
     },
     "execution_count": 10,
     "metadata": {},
     "output_type": "execute_result"
    }
   ],
   "source": [
    "A.add_node_to_tree(50, 2)\n",
    "A.edges"
   ]
  },
  {
   "cell_type": "code",
   "execution_count": 11,
   "id": "736c60ac",
   "metadata": {},
   "outputs": [
    {
     "data": {
      "text/plain": [
       "[[50, 25, 'left', 1], [25, 2, 'left', 1], [25, 40, 'right', 1]]"
      ]
     },
     "execution_count": 11,
     "metadata": {},
     "output_type": "execute_result"
    }
   ],
   "source": [
    "A.add_node_to_tree(50, 40)\n",
    "A.edges"
   ]
  },
  {
   "cell_type": "code",
   "execution_count": 12,
   "id": "46d72304",
   "metadata": {
    "scrolled": true
   },
   "outputs": [
    {
     "data": {
      "text/plain": [
       "[[50, 30, 'left', 1],\n",
       " [25, 2, 'left', 1],\n",
       " [25, 40, 'right', 1],\n",
       " [30, 25, 'left', 1]]"
      ]
     },
     "execution_count": 12,
     "metadata": {},
     "output_type": "execute_result"
    }
   ],
   "source": [
    "A.add_node_to_tree(50, 30)\n",
    "A.edges"
   ]
  },
  {
   "cell_type": "code",
   "execution_count": 13,
   "id": "f20d897f",
   "metadata": {},
   "outputs": [
    {
     "data": {
      "text/plain": [
       "[[50, 30, 'left', 1],\n",
       " [25, 2, 'left', 1],\n",
       " [25, 40, 'right', 1],\n",
       " [30, 25, 'left', 1],\n",
       " [50, 90, 'right', 1]]"
      ]
     },
     "execution_count": 13,
     "metadata": {},
     "output_type": "execute_result"
    }
   ],
   "source": [
    "A.add_node_to_tree(50, 90)\n",
    "A.edges"
   ]
  },
  {
   "cell_type": "code",
   "execution_count": 14,
   "id": "dd72588a",
   "metadata": {},
   "outputs": [
    {
     "data": {
      "text/plain": [
       "[[50, 30, 'left', 1],\n",
       " [25, 2, 'left', 1],\n",
       " [25, 40, 'right', 1],\n",
       " [30, 25, 'left', 1],\n",
       " [50, 90, 'right', 1],\n",
       " [90, 75, 'left', 1]]"
      ]
     },
     "execution_count": 14,
     "metadata": {},
     "output_type": "execute_result"
    }
   ],
   "source": [
    "A.add_node_to_tree(50, 75)\n",
    "A.edges"
   ]
  },
  {
   "cell_type": "code",
   "execution_count": 15,
   "id": "8db4229b",
   "metadata": {},
   "outputs": [],
   "source": [
    "def Min (root, tree):\n",
    "    if tree.node_have_left_child(root):\n",
    "        Min(tree.find_left_child(root)[0], tree)\n",
    "    else:\n",
    "        print(root)"
   ]
  },
  {
   "cell_type": "code",
   "execution_count": 16,
   "id": "8a44c6d6",
   "metadata": {},
   "outputs": [
    {
     "name": "stdout",
     "output_type": "stream",
     "text": [
      "2\n"
     ]
    }
   ],
   "source": [
    "Min(50, A)"
   ]
  },
  {
   "cell_type": "code",
   "execution_count": 17,
   "id": "8ffaf528",
   "metadata": {},
   "outputs": [],
   "source": [
    "def Max (root, tree):\n",
    "    if tree.node_have_right_child(root):\n",
    "        Max(tree.find_right_child(root)[0], tree)\n",
    "    else:\n",
    "        print(root)"
   ]
  },
  {
   "cell_type": "code",
   "execution_count": 18,
   "id": "004c8136",
   "metadata": {},
   "outputs": [
    {
     "name": "stdout",
     "output_type": "stream",
     "text": [
      "90\n"
     ]
    }
   ],
   "source": [
    "Max(50, A)"
   ]
  }
 ],
 "metadata": {
  "kernelspec": {
   "display_name": "Python 3 (ipykernel)",
   "language": "python",
   "name": "python3"
  },
  "language_info": {
   "codemirror_mode": {
    "name": "ipython",
    "version": 3
   },
   "file_extension": ".py",
   "mimetype": "text/x-python",
   "name": "python",
   "nbconvert_exporter": "python",
   "pygments_lexer": "ipython3",
   "version": "3.8.10"
  }
 },
 "nbformat": 4,
 "nbformat_minor": 5
}
